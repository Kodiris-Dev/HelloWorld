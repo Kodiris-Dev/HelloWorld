{
 "cells": [
  {
   "cell_type": "code",
   "execution_count": 261,
   "metadata": {
    "id": "-laPfUlc4gqt"
   },
   "outputs": [],
   "source": [
    "import pandas as pd\n",
    "import matplotlib.pyplot as plt\n",
    "from matplotlib.pyplot import figure\n",
    "import numpy as np\n",
    "import seaborn as sns\n",
    "#ml\n",
    "from sklearn.preprocessing import MinMaxScaler\n",
    "from sklearn.linear_model import LinearRegression\n",
    "from sklearn.model_selection import train_test_split\n",
    "from sklearn.metrics import mean_absolute_error,mean_squared_error\n",
    "import ipywidgets\n",
    "from sklearn.preprocessing import PolynomialFeatures\n",
    "import matplotlib.gridspec as gridspec"
   ]
  },
  {
   "cell_type": "code",
   "execution_count": null,
   "metadata": {},
   "outputs": [],
   "source": []
  },
  {
   "cell_type": "code",
   "execution_count": 262,
   "metadata": {
    "colab": {
     "base_uri": "https://localhost:8080/",
     "height": 424
    },
    "id": "_DaoTBob5mcv",
    "outputId": "0ced8ec1-6db9-450a-ebbf-d263ceee41f6"
   },
   "outputs": [
    {
     "data": {
      "text/html": [
       "<div>\n",
       "<style scoped>\n",
       "    .dataframe tbody tr th:only-of-type {\n",
       "        vertical-align: middle;\n",
       "    }\n",
       "\n",
       "    .dataframe tbody tr th {\n",
       "        vertical-align: top;\n",
       "    }\n",
       "\n",
       "    .dataframe thead th {\n",
       "        text-align: right;\n",
       "    }\n",
       "</style>\n",
       "<table border=\"1\" class=\"dataframe\">\n",
       "  <thead>\n",
       "    <tr style=\"text-align: right;\">\n",
       "      <th></th>\n",
       "      <th>wins</th>\n",
       "      <th>goals</th>\n",
       "      <th>total_pass</th>\n",
       "      <th>season</th>\n",
       "      <th>team</th>\n",
       "      <th>season_code</th>\n",
       "    </tr>\n",
       "  </thead>\n",
       "  <tbody>\n",
       "    <tr>\n",
       "      <th>0</th>\n",
       "      <td>28.0</td>\n",
       "      <td>83.0</td>\n",
       "      <td>18723.0</td>\n",
       "      <td>2006-2007</td>\n",
       "      <td>Manchester United</td>\n",
       "      <td>0</td>\n",
       "    </tr>\n",
       "    <tr>\n",
       "      <th>1</th>\n",
       "      <td>24.0</td>\n",
       "      <td>64.0</td>\n",
       "      <td>16759.0</td>\n",
       "      <td>2006-2007</td>\n",
       "      <td>Chelsea</td>\n",
       "      <td>0</td>\n",
       "    </tr>\n",
       "    <tr>\n",
       "      <th>2</th>\n",
       "      <td>20.0</td>\n",
       "      <td>57.0</td>\n",
       "      <td>17154.0</td>\n",
       "      <td>2006-2007</td>\n",
       "      <td>Liverpool</td>\n",
       "      <td>0</td>\n",
       "    </tr>\n",
       "    <tr>\n",
       "      <th>3</th>\n",
       "      <td>19.0</td>\n",
       "      <td>63.0</td>\n",
       "      <td>18458.0</td>\n",
       "      <td>2006-2007</td>\n",
       "      <td>Arsenal</td>\n",
       "      <td>0</td>\n",
       "    </tr>\n",
       "    <tr>\n",
       "      <th>4</th>\n",
       "      <td>17.0</td>\n",
       "      <td>57.0</td>\n",
       "      <td>14914.0</td>\n",
       "      <td>2006-2007</td>\n",
       "      <td>Tottenham Hotspur</td>\n",
       "      <td>0</td>\n",
       "    </tr>\n",
       "    <tr>\n",
       "      <th>...</th>\n",
       "      <td>...</td>\n",
       "      <td>...</td>\n",
       "      <td>...</td>\n",
       "      <td>...</td>\n",
       "      <td>...</td>\n",
       "      <td>...</td>\n",
       "    </tr>\n",
       "    <tr>\n",
       "      <th>235</th>\n",
       "      <td>9.0</td>\n",
       "      <td>28.0</td>\n",
       "      <td>14960.0</td>\n",
       "      <td>2017-2018</td>\n",
       "      <td>Huddersfield Town</td>\n",
       "      <td>11</td>\n",
       "    </tr>\n",
       "    <tr>\n",
       "      <th>236</th>\n",
       "      <td>8.0</td>\n",
       "      <td>28.0</td>\n",
       "      <td>15721.0</td>\n",
       "      <td>2017-2018</td>\n",
       "      <td>Swansea City</td>\n",
       "      <td>11</td>\n",
       "    </tr>\n",
       "    <tr>\n",
       "      <th>237</th>\n",
       "      <td>7.0</td>\n",
       "      <td>37.0</td>\n",
       "      <td>17174.0</td>\n",
       "      <td>2017-2018</td>\n",
       "      <td>Southampton</td>\n",
       "      <td>11</td>\n",
       "    </tr>\n",
       "    <tr>\n",
       "      <th>238</th>\n",
       "      <td>7.0</td>\n",
       "      <td>35.0</td>\n",
       "      <td>12892.0</td>\n",
       "      <td>2017-2018</td>\n",
       "      <td>Stoke City</td>\n",
       "      <td>11</td>\n",
       "    </tr>\n",
       "    <tr>\n",
       "      <th>239</th>\n",
       "      <td>6.0</td>\n",
       "      <td>31.0</td>\n",
       "      <td>13218.0</td>\n",
       "      <td>2017-2018</td>\n",
       "      <td>West Bromwich Albion</td>\n",
       "      <td>11</td>\n",
       "    </tr>\n",
       "  </tbody>\n",
       "</table>\n",
       "<p>240 rows × 6 columns</p>\n",
       "</div>"
      ],
      "text/plain": [
       "     wins  goals  total_pass     season                  team  season_code\n",
       "0    28.0   83.0     18723.0  2006-2007     Manchester United            0\n",
       "1    24.0   64.0     16759.0  2006-2007               Chelsea            0\n",
       "2    20.0   57.0     17154.0  2006-2007             Liverpool            0\n",
       "3    19.0   63.0     18458.0  2006-2007               Arsenal            0\n",
       "4    17.0   57.0     14914.0  2006-2007     Tottenham Hotspur            0\n",
       "..    ...    ...         ...        ...                   ...          ...\n",
       "235   9.0   28.0     14960.0  2017-2018     Huddersfield Town           11\n",
       "236   8.0   28.0     15721.0  2017-2018          Swansea City           11\n",
       "237   7.0   37.0     17174.0  2017-2018           Southampton           11\n",
       "238   7.0   35.0     12892.0  2017-2018            Stoke City           11\n",
       "239   6.0   31.0     13218.0  2017-2018  West Bromwich Albion           11\n",
       "\n",
       "[240 rows x 6 columns]"
      ]
     },
     "execution_count": 262,
     "metadata": {},
     "output_type": "execute_result"
    }
   ],
   "source": [
    "df=pd.read_csv('stats.csv')\n",
    "df=df[['wins', 'goals', 'total_pass', 'season', 'team']]\n",
    "df['season'] = pd.Categorical(df['season'])\n",
    "df['season_code'] = df['season'].cat.codes\n",
    "df"
   ]
  },
  {
   "cell_type": "code",
   "execution_count": 263,
   "metadata": {
    "colab": {
     "base_uri": "https://localhost:8080/"
    },
    "id": "PF-ej2LiN_RM",
    "outputId": "20d20fb7-d355-4417-9a4d-ae15d46d1d99"
   },
   "outputs": [
    {
     "name": "stdout",
     "output_type": "stream",
     "text": [
      "<class 'pandas.core.frame.DataFrame'>\n",
      "RangeIndex: 240 entries, 0 to 239\n",
      "Data columns (total 6 columns):\n",
      " #   Column       Non-Null Count  Dtype   \n",
      "---  ------       --------------  -----   \n",
      " 0   wins         240 non-null    float64 \n",
      " 1   goals        240 non-null    float64 \n",
      " 2   total_pass   240 non-null    float64 \n",
      " 3   season       240 non-null    category\n",
      " 4   team         240 non-null    object  \n",
      " 5   season_code  240 non-null    int8    \n",
      "dtypes: category(1), float64(3), int8(1), object(1)\n",
      "memory usage: 8.5+ KB\n"
     ]
    }
   ],
   "source": [
    "df.info()"
   ]
  },
  {
   "cell_type": "markdown",
   "metadata": {
    "id": "1nrGl8DmOXlG"
   },
   "source": []
  },
  {
   "cell_type": "code",
   "execution_count": 264,
   "metadata": {
    "colab": {
     "base_uri": "https://localhost:8080/",
     "height": 638
    },
    "id": "jRUalLXOBubu",
    "outputId": "af840a6a-3bd1-43e7-f791-a6e5cadf74d3"
   },
   "outputs": [],
   "source": [
    "#plt.figure(figsize=(30, 10))\n",
    "#x = df['wins']\n",
    "#y = df['goals']\n",
    "#plt.scatter(x, y, c=df['season_code'])\n",
    "#a, b = np.polyfit(x, y, 1)\n",
    "#plt.title(\"Premier League Seasons Wins vs Goals\")\n",
    "#plt.xlabel(\"Wins\")\n",
    "#plt.ylabel(\"Goals Scored\")\n",
    "#plt.plot(x, a*x+b)  "
   ]
  },
  {
   "cell_type": "markdown",
   "metadata": {
    "id": "RzUrVR1yOXrk"
   },
   "source": [
    "# Predict wins from goals\n",
    "### SPLIT TRAINING AND TESTING DATA SET\n",
    "12 total seasons\n",
    "20 entries per season\n",
    "80/20 split = 10/2 *season* = 200/40 entries"
   ]
  },
  {
   "cell_type": "code",
   "execution_count": 265,
   "metadata": {
    "colab": {
     "base_uri": "https://localhost:8080/",
     "height": 424
    },
    "id": "26MpoPS3En3I",
    "outputId": "bf2ec35e-ba00-4680-a8fc-a81fa5579e6a"
   },
   "outputs": [],
   "source": [
    "#testing = df.loc[:39]\n",
    "#training = df.loc[40: , ['wins', 'goals']]\n",
    "#training"
   ]
  },
  {
   "cell_type": "code",
   "execution_count": 266,
   "metadata": {
    "id": "KDqBFfoRFWiD"
   },
   "outputs": [],
   "source": [
    "#scaler=MinMaxScaler(feature_range=(0,1))\n",
    "#final_data = df[['wins', 'goals']]\n",
    "#train_data=training\n",
    "#valid_data=testing\n",
    "#scaler=MinMaxScaler(feature_range=(0,1))\n",
    "#scaled_data=scaler.fit_transform(final_data)\n",
    "#x_train_data,y_train_data=[],[]\n",
    "#for i in range(60,len(train_data)):\n",
    "    #x_train_data.append(scaled_data[i-60:i,0])\n",
    "    #y_train_data.append(scaled_data[i,0])\n",
    "\n",
    "#x_test_data,y_test_data=[],[]\n",
    "#for i in range(60,len(valid_data)):\n",
    "    #x_test_data.append(scaled_data[i-60:i,0])\n",
    "    #y_test_data.append(scaled_data[i,0])"
   ]
  },
  {
   "cell_type": "code",
   "execution_count": 267,
   "metadata": {
    "colab": {
     "base_uri": "https://localhost:8080/",
     "height": 424
    },
    "id": "I8xLfo3Ag9D0",
    "outputId": "3b53ec99-0829-49f1-8f63-6498a3409873"
   },
   "outputs": [],
   "source": [
    "#final_data"
   ]
  },
  {
   "cell_type": "code",
   "execution_count": 268,
   "metadata": {
    "colab": {
     "base_uri": "https://localhost:8080/",
     "height": 386
    },
    "id": "eQQgBWMIhMcQ",
    "outputId": "3d27cad2-7e0d-42c0-952e-4b37da7e9057"
   },
   "outputs": [
    {
     "data": {
      "text/plain": [
       "<seaborn.axisgrid.FacetGrid at 0x1d028a58820>"
      ]
     },
     "execution_count": 268,
     "metadata": {},
     "output_type": "execute_result"
    },
    {
     "data": {
      "image/png": "[encoded data removed]",
      "text/plain": [
       "<Figure size 500x500 with 1 Axes>"
      ]
     },
     "metadata": {},
     "output_type": "display_data"
    }
   ],
   "source": [
    "sns.lmplot(x =\"goals\", y =\"wins\", data = final_data, order = 2, ci = None)"
   ]
  },
  {
   "cell_type": "code",
   "execution_count": 269,
   "metadata": {
    "colab": {
     "base_uri": "https://localhost:8080/"
    },
    "id": "tABU6s7EkQQ5",
    "outputId": "9779d311-1ef5-48f0-c33e-e629a0f5f152"
   },
   "outputs": [
    {
     "name": "stdout",
     "output_type": "stream",
     "text": [
      "0.828297409951953\n"
     ]
    },
    {
     "name": "stderr",
     "output_type": "stream",
     "text": [
      "C:\\Users\\ruiz_\\AppData\\Local\\Temp\\ipykernel_6760\\2070977971.py:7: SettingWithCopyWarning: \n",
      "A value is trying to be set on a copy of a slice from a DataFrame\n",
      "\n",
      "See the caveats in the documentation: https://pandas.pydata.org/pandas-docs/stable/user_guide/indexing.html#returning-a-view-versus-a-copy\n",
      "  final_data.dropna(inplace = True)\n"
     ]
    }
   ],
   "source": [
    "X = np.array(final_data['goals']).reshape(-1, 1)\n",
    "y = np.array(final_data['wins']).reshape(-1, 1)\n",
    "  \n",
    "# Separating the data into independent and dependent variables\n",
    "# Converting each dataframe into a numpy array \n",
    "# since each dataframe contains only one column\n",
    "final_data.dropna(inplace = True)\n",
    "  \n",
    "# Dropping any rows with Nan values\n",
    "X_train, X_test, y_train, y_test = train_test_split(X, y, test_size = 0.25)\n",
    "  \n",
    "# Splitting the data into training and testing data\n",
    "regr = LinearRegression()\n",
    "  \n",
    "regr.fit(X_train, y_train)\n",
    "print(regr.score(X_test, y_test))"
   ]
  },
  {
   "cell_type": "markdown",
   "metadata": {
    "id": "yGQHL-C_mcJq"
   },
   "source": [
    "Reading Output"
   ]
  },
  {
   "cell_type": "code",
   "execution_count": 270,
   "metadata": {
    "colab": {
     "base_uri": "https://localhost:8080/",
     "height": 265
    },
    "id": "2Zv5WSgjmRUt",
    "outputId": "7a9f04c1-6022-4e48-8187-64ecf0d3976d"
   },
   "outputs": [
    {
     "data": {
      "image/png": "[encoded data removed]",
      "text/plain": [
       "<Figure size 640x480 with 1 Axes>"
      ]
     },
     "metadata": {},
     "output_type": "display_data"
    }
   ],
   "source": [
    "y_pred = regr.predict(X_test)\n",
    "plt.scatter(X_test, y_test, color ='b')\n",
    "plt.plot(X_test, y_pred, color ='k')\n",
    "  \n",
    "plt.show()"
   ]
  },
  {
   "cell_type": "code",
   "execution_count": 271,
   "metadata": {
    "colab": {
     "base_uri": "https://localhost:8080/"
    },
    "id": "bew_HgpImfhR",
    "outputId": "ef2a12ed-6727-4e21-acb9-1d17daf786a1"
   },
   "outputs": [
    {
     "name": "stdout",
     "output_type": "stream",
     "text": [
      "MAE: 2.034149532008326\n",
      "MSE: 6.392868988800008\n",
      "RMSE: 2.5284123454848118\n"
     ]
    }
   ],
   "source": [
    "mae = mean_absolute_error(y_true=y_test,y_pred=y_pred)\n",
    "#squared True returns MSE value, False returns RMSE value.\n",
    "mse = mean_squared_error(y_true=y_test,y_pred=y_pred) #default=True\n",
    "rmse = mean_squared_error(y_true=y_test,y_pred=y_pred,squared=False)\n",
    "  \n",
    "print(\"MAE:\",mae)\n",
    "print(\"MSE:\",mse)\n",
    "print(\"RMSE:\",rmse)"
   ]
  },
  {
   "cell_type": "markdown",
   "metadata": {
    "id": "idqk0EPFnAfL"
   },
   "source": [
    "## Predict Value"
   ]
  },
  {
   "cell_type": "code",
   "execution_count": 272,
   "metadata": {
    "colab": {
     "base_uri": "https://localhost:8080/",
     "height": 473
    },
    "id": "1SPw12YZmz4e",
    "outputId": "d1947f34-e4e7-4353-9a25-72ad69042cae"
   },
   "outputs": [
    {
     "name": "stdout",
     "output_type": "stream",
     "text": [
      "coefficient of determination: 0.828297409951953\n",
      "intercept: [-2.60739875]\n",
      "slope: [[0.33245462]]\n"
     ]
    }
   ],
   "source": [
    "r_sq = regr.score(X_test, y_test)\n",
    "print('coefficient of determination:', r_sq)\n",
    "\n",
    "# Print the Intercept:\n",
    "print('intercept:', regr.intercept_)\n",
    "\n",
    "# Print the Slope:\n",
    "print('slope:', regr.coef_) \n"
   ]
  },
  {
   "cell_type": "markdown",
   "metadata": {
    "id": "5YshEcmInXap"
   },
   "source": [
    "### Interactive Graph"
   ]
  },
  {
   "cell_type": "code",
   "execution_count": 273,
   "metadata": {
    "id": "qG7iN7D_vA44"
   },
   "outputs": [
    {
     "data": {
      "application/vnd.jupyter.widget-view+json": {
       "model_id": "1110ec7d05744f6da44e830c909ca778",
       "version_major": 2,
       "version_minor": 0
      },
      "text/plain": [
       "interactive(children=(Dropdown(description='goals', options=(20, 21, 22, 23, 24, 25, 26, 27, 28, 29, 30, 31, 3…"
      ]
     },
     "metadata": {},
     "output_type": "display_data"
    }
   ],
   "source": [
    "@ipywidgets.interact(goals=list(range(20,101)))\n",
    "def predict_wins(goals):\n",
    "    X = np.array(final_data['goals']).reshape(-1, 1)\n",
    "    y = np.array(final_data['wins']).reshape(-1, 1)\n",
    "\n",
    "    # Separating the data into independent and dependent variables\n",
    "    # Converting each dataframe into a numpy array \n",
    "    # since each dataframe contains only one column\n",
    "    final_data.dropna(inplace = True)\n",
    "\n",
    "    # Dropping any rows with Nan values\n",
    "    X_train, X_test, y_train, y_test = train_test_split(X, y, test_size = 0.25)\n",
    "\n",
    "    # Splitting the data into training and testing data\n",
    "    regr = LinearRegression()\n",
    "\n",
    "    regr.fit(X_train, y_train)\n",
    "    print(regr.score(X_test, y_test))\n",
    "    # Predict a Response and print it:\n",
    "    y_pred = regr.predict(np.array(goals).reshape((-1, 1)))\n",
    "    print('Predicted wins:', y_pred, sep='\\n')\n",
    "\n",
    "    sns.lmplot(x =\"goals\", y =\"wins\", data = final_data, order = 2, ci = None, height=3, aspect=1.5)\n",
    "    plt.scatter(x=goals, y=y_pred, color='r')\n",
    "    return y_pred"
   ]
  },
  {
   "cell_type": "markdown",
   "metadata": {
    "id": "pssO04VG02Fo"
   },
   "source": [
    "# Predict goals from passes\n",
    "### SPLIT TRAINING AND TESTING DATA SET\n",
    "12 total seasons\n",
    "20 entries per season\n",
    "80/20 split = 10/2 *season* = 200/40 entries"
   ]
  },
  {
   "cell_type": "code",
   "execution_count": 274,
   "metadata": {},
   "outputs": [],
   "source": [
    "#testing = df.loc[:39]\n",
    "#training = df.loc[40: , ['goals', 'total_pass']]\n",
    "#training"
   ]
  },
  {
   "cell_type": "code",
   "execution_count": 275,
   "metadata": {},
   "outputs": [],
   "source": [
    "#scaler=MinMaxScaler(feature_range=(0,1))\n",
    "#final_data2 = df[['goals', 'total_pass']]\n",
    "#train_data=training\n",
    "#valid_data=testing\n",
    "#scaler=MinMaxScaler(feature_range=(0,1))\n",
    "#scaled_data=scaler.fit_transform(final_data)\n",
    "#x_train_data,y_train_data=[],[]\n",
    "#for i in range(60,len(train_data)):\n",
    "    #x_train_data.append(scaled_data[i-60:i,0])\n",
    "    #y_train_data.append(scaled_data[i,0])\n",
    "\n",
    "#x_test_data,y_test_data=[],[]\n",
    "#for i in range(60,len(valid_data)):\n",
    "    #x_test_data.append(scaled_data[i-60:i,0])\n",
    "    #y_test_data.append(scaled_data[i,0])"
   ]
  },
  {
   "cell_type": "code",
   "execution_count": 276,
   "metadata": {},
   "outputs": [],
   "source": [
    "#final_data2"
   ]
  },
  {
   "cell_type": "code",
   "execution_count": 277,
   "metadata": {},
   "outputs": [
    {
     "data": {
      "text/plain": [
       "<seaborn.axisgrid.FacetGrid at 0x1d029bf3d00>"
      ]
     },
     "execution_count": 277,
     "metadata": {},
     "output_type": "execute_result"
    },
    {
     "data": {
      "image/png": "[encoded data removed]",
      "text/plain": [
       "<Figure size 500x500 with 1 Axes>"
      ]
     },
     "metadata": {},
     "output_type": "display_data"
    }
   ],
   "source": [
    "sns.lmplot(x =\"total_pass\", y =\"goals\", data = final_data2, order = 2, ci = None)"
   ]
  },
  {
   "cell_type": "code",
   "execution_count": 278,
   "metadata": {},
   "outputs": [
    {
     "name": "stdout",
     "output_type": "stream",
     "text": [
      "0.4743351641619411\n"
     ]
    },
    {
     "name": "stderr",
     "output_type": "stream",
     "text": [
      "C:\\Users\\ruiz_\\AppData\\Local\\Temp\\ipykernel_6760\\3606074552.py:7: SettingWithCopyWarning: \n",
      "A value is trying to be set on a copy of a slice from a DataFrame\n",
      "\n",
      "See the caveats in the documentation: https://pandas.pydata.org/pandas-docs/stable/user_guide/indexing.html#returning-a-view-versus-a-copy\n",
      "  final_data2.dropna(inplace = True)\n"
     ]
    }
   ],
   "source": [
    "X = np.array(final_data2['total_pass']).reshape(-1, 1)\n",
    "y = np.array(final_data2['goals']).reshape(-1, 1)\n",
    "  \n",
    "# Separating the data into independent and dependent variables\n",
    "# Converting each dataframe into a numpy array \n",
    "# since each dataframe contains only one column\n",
    "final_data2.dropna(inplace = True)\n",
    "  \n",
    "# Dropping any rows with Nan values\n",
    "X_train, X_test, y_train, y_test = train_test_split(X, y, test_size = 0.4)\n",
    "  \n",
    "# Splitting the data into training and testing data\n",
    "regr = LinearRegression()\n",
    "  \n",
    "regr.fit(X_train, y_train)\n",
    "print(regr.score(X_test, y_test))"
   ]
  },
  {
   "cell_type": "markdown",
   "metadata": {},
   "source": [
    "Linear regression not a good fit"
   ]
  },
  {
   "cell_type": "markdown",
   "metadata": {},
   "source": [
    "### Polynomial Regression"
   ]
  },
  {
   "cell_type": "code",
   "execution_count": 279,
   "metadata": {},
   "outputs": [],
   "source": [
    "poly = PolynomialFeatures(degree=2, include_bias=False)"
   ]
  },
  {
   "cell_type": "code",
   "execution_count": 280,
   "metadata": {},
   "outputs": [
    {
     "name": "stdout",
     "output_type": "stream",
     "text": [
      "0.4818649674580848\n"
     ]
    }
   ],
   "source": [
    "poly_features = poly.fit_transform(X_train)\n",
    "poly_reg_model = LinearRegression()\n",
    "poly_reg_model.fit(poly_features, y_train)\n",
    "print(poly_reg_model.score(poly.fit_transform(X_test), y_test))"
   ]
  },
  {
   "cell_type": "code",
   "execution_count": 281,
   "metadata": {},
   "outputs": [
    {
     "data": {
      "image/png": "[encoded data removed]",
      "text/plain": [
       "<Figure size 640x480 with 1 Axes>"
      ]
     },
     "metadata": {},
     "output_type": "display_data"
    }
   ],
   "source": [
    "y_pred = poly_reg_model.predict(poly.fit_transform(X))\n",
    "plt.scatter(X, y, color ='b')\n",
    "plt.plot(X, y_pred, color ='k')\n",
    "  \n",
    "plt.show()"
   ]
  },
  {
   "cell_type": "markdown",
   "metadata": {},
   "source": [
    "Polynomial regression not ideal"
   ]
  },
  {
   "cell_type": "markdown",
   "metadata": {},
   "source": [
    "### Interactive Graph"
   ]
  },
  {
   "cell_type": "code",
   "execution_count": 282,
   "metadata": {},
   "outputs": [
    {
     "data": {
      "application/vnd.jupyter.widget-view+json": {
       "model_id": "f176081ac0904d569e950ce37fdda1fe",
       "version_major": 2,
       "version_minor": 0
      },
      "text/plain": [
       "interactive(children=(BoundedIntText(value=10000, description='Passes:', max=30000, min=8000, step=1000), Outp…"
      ]
     },
     "metadata": {},
     "output_type": "display_data"
    }
   ],
   "source": [
    "\n",
    "\n",
    "@ipywidgets.interact(passes=ipywidgets.BoundedIntText(\n",
    "    value=10000,\n",
    "    min=8000,\n",
    "    max=30000,\n",
    "    step=1000,\n",
    "    description='Passes:',\n",
    "    disabled=False\n",
    "))\n",
    "def predict_goals(passes):\n",
    "    # Predict a Response and print it:\n",
    "    passes_data = poly.fit_transform(np.array([passes]).reshape((-1, 1)))\n",
    "    y_pred = poly_reg_model.predict(passes_data)\n",
    "    print('Predicted goals:', y_pred, sep='\\n')\n",
    "\n",
    "    fig = sns.lmplot(x =\"total_pass\", y =\"goals\", data = final_data2, order = 2, ci = None, height=3, aspect=1.5)\n",
    "    fig = plt.scatter(x=passes, y=y_pred, color='r')\n",
    "    return y_pred"
   ]
  },
  {
   "cell_type": "markdown",
   "metadata": {},
   "source": [
    "# Dashboard"
   ]
  },
  {
   "cell_type": "code",
   "execution_count": 283,
   "metadata": {},
   "outputs": [
    {
     "data": {
      "application/vnd.jupyter.widget-view+json": {
       "model_id": "96d479ccbbd640a3ac0653047e27380c",
       "version_major": 2,
       "version_minor": 0
      },
      "text/plain": [
       "interactive(children=(BoundedIntText(value=10000, description='Passes:', max=28000, min=8000, step=1000), Outp…"
      ]
     },
     "metadata": {},
     "output_type": "display_data"
    }
   ],
   "source": [
    "#myLabel = ipywidgets.Label()\n",
    "@ipywidgets.interact(passes=ipywidgets.BoundedIntText(\n",
    "    value=10000,\n",
    "    min=8000,\n",
    "    max=28000,\n",
    "    step=1000,\n",
    "    description='Passes:',\n",
    "    disabled=False\n",
    "))\n",
    "def dashboard(passes):\n",
    "    goals = predict_goals(passes)\n",
    "    wins = predict_wins(goals[0][0])\n",
    "    print('Goals:', goals, 'Wins:', wins)\n",
    "    \n",
    "    \n"
   ]
  },
  {
   "cell_type": "markdown",
   "metadata": {},
   "source": [
    "# How To Use"
   ]
  },
  {
   "cell_type": "markdown",
   "metadata": {},
   "source": [
    "The dashboard takes any number of total passes that a team in the premier league has completed in the entire season. The first graph will then update the number of goals that team is expected to score based on passes completed, and then interact with the second graph to predict the number of wins the team will end the season with. Both outputs will be printed to the screen."
   ]
  },
  {
   "cell_type": "markdown",
   "metadata": {},
   "source": [
    "Contextual Dataset:"
   ]
  },
  {
   "cell_type": "code",
   "execution_count": 284,
   "metadata": {},
   "outputs": [
    {
     "data": {
      "text/html": [
       "<div>\n",
       "<style scoped>\n",
       "    .dataframe tbody tr th:only-of-type {\n",
       "        vertical-align: middle;\n",
       "    }\n",
       "\n",
       "    .dataframe tbody tr th {\n",
       "        vertical-align: top;\n",
       "    }\n",
       "\n",
       "    .dataframe thead th {\n",
       "        text-align: right;\n",
       "    }\n",
       "</style>\n",
       "<table border=\"1\" class=\"dataframe\">\n",
       "  <thead>\n",
       "    <tr style=\"text-align: right;\">\n",
       "      <th></th>\n",
       "      <th>home_team</th>\n",
       "      <th>away_team</th>\n",
       "      <th>home_goals</th>\n",
       "      <th>away_goals</th>\n",
       "      <th>result</th>\n",
       "      <th>season</th>\n",
       "    </tr>\n",
       "  </thead>\n",
       "  <tbody>\n",
       "    <tr>\n",
       "      <th>0</th>\n",
       "      <td>Sheffield United</td>\n",
       "      <td>Liverpool</td>\n",
       "      <td>1.0</td>\n",
       "      <td>1.0</td>\n",
       "      <td>D</td>\n",
       "      <td>2006-2007</td>\n",
       "    </tr>\n",
       "    <tr>\n",
       "      <th>1</th>\n",
       "      <td>Arsenal</td>\n",
       "      <td>Aston Villa</td>\n",
       "      <td>1.0</td>\n",
       "      <td>1.0</td>\n",
       "      <td>D</td>\n",
       "      <td>2006-2007</td>\n",
       "    </tr>\n",
       "    <tr>\n",
       "      <th>2</th>\n",
       "      <td>Everton</td>\n",
       "      <td>Watford</td>\n",
       "      <td>2.0</td>\n",
       "      <td>1.0</td>\n",
       "      <td>H</td>\n",
       "      <td>2006-2007</td>\n",
       "    </tr>\n",
       "    <tr>\n",
       "      <th>3</th>\n",
       "      <td>Newcastle United</td>\n",
       "      <td>Wigan Athletic</td>\n",
       "      <td>2.0</td>\n",
       "      <td>1.0</td>\n",
       "      <td>H</td>\n",
       "      <td>2006-2007</td>\n",
       "    </tr>\n",
       "    <tr>\n",
       "      <th>4</th>\n",
       "      <td>Portsmouth</td>\n",
       "      <td>Blackburn Rovers</td>\n",
       "      <td>3.0</td>\n",
       "      <td>0.0</td>\n",
       "      <td>H</td>\n",
       "      <td>2006-2007</td>\n",
       "    </tr>\n",
       "  </tbody>\n",
       "</table>\n",
       "</div>"
      ],
      "text/plain": [
       "          home_team         away_team  home_goals  away_goals result  \\\n",
       "0  Sheffield United         Liverpool         1.0         1.0      D   \n",
       "1           Arsenal       Aston Villa         1.0         1.0      D   \n",
       "2           Everton           Watford         2.0         1.0      H   \n",
       "3  Newcastle United    Wigan Athletic         2.0         1.0      H   \n",
       "4        Portsmouth  Blackburn Rovers         3.0         0.0      H   \n",
       "\n",
       "      season  \n",
       "0  2006-2007  \n",
       "1  2006-2007  \n",
       "2  2006-2007  \n",
       "3  2006-2007  \n",
       "4  2006-2007  "
      ]
     },
     "execution_count": 284,
     "metadata": {},
     "output_type": "execute_result"
    }
   ],
   "source": [
    "df=pd.read_csv('results.csv')\n",
    "df.head()"
   ]
  },
  {
   "cell_type": "markdown",
   "metadata": {},
   "source": [
    "This dataset is useful in providing context to the above data by showing the actual individual game results within each season that the collective data was recorded from."
   ]
  },
  {
   "cell_type": "markdown",
   "metadata": {},
   "source": [
    "My dataset is not large"
   ]
  },
  {
   "cell_type": "markdown",
   "metadata": {},
   "source": [
    "To compare predicted outputs to real outputs, use the link below\n",
    "https://www.premierleague.com/stats/top/clubs/wins?se=363\n",
    "\n",
    "Pick a team in the 2020-2021 season (was not in testing or training dataset) and filter by passes completed to enter the value into the notebook. Then compare goals/wins that season to the predicted output."
   ]
  },
  {
   "cell_type": "code",
   "execution_count": null,
   "metadata": {},
   "outputs": [],
   "source": []
  }
 ],
 "metadata": {
  "colab": {
   "provenance": []
  },
  "kernelspec": {
   "display_name": "Python 3 (ipykernel)",
   "language": "python",
   "name": "python3"
  },
  "language_info": {
   "codemirror_mode": {
    "name": "ipython",
    "version": 3
   },
   "file_extension": ".py",
   "mimetype": "text/x-python",
   "name": "python",
   "nbconvert_exporter": "python",
   "pygments_lexer": "ipython3",
   "version": "3.8.13"
  }
 },
 "nbformat": 4,
 "nbformat_minor": 1
}
